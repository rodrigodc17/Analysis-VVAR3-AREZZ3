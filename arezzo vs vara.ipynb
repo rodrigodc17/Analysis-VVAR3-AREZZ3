{
 "cells": [
  {
   "cell_type": "code",
   "execution_count": 1,
   "metadata": {},
   "outputs": [],
   "source": [
    "import pandas as pd\n",
    "vv = pd.read_csv('vara.csv')\n",
    "ar = pd.read_csv('arezzo.csv')"
   ]
  },
  {
   "cell_type": "code",
   "execution_count": 2,
   "metadata": {},
   "outputs": [
    {
     "name": "stdout",
     "output_type": "stream",
     "text": [
      "<class 'pandas.core.frame.DataFrame'>\n"
     ]
    }
   ],
   "source": [
    "print(type(vv))"
   ]
  },
  {
   "cell_type": "code",
   "execution_count": 3,
   "metadata": {},
   "outputs": [
    {
     "data": {
      "text/html": [
       "<div>\n",
       "<style scoped>\n",
       "    .dataframe tbody tr th:only-of-type {\n",
       "        vertical-align: middle;\n",
       "    }\n",
       "\n",
       "    .dataframe tbody tr th {\n",
       "        vertical-align: top;\n",
       "    }\n",
       "\n",
       "    .dataframe thead th {\n",
       "        text-align: right;\n",
       "    }\n",
       "</style>\n",
       "<table border=\"1\" class=\"dataframe\">\n",
       "  <thead>\n",
       "    <tr style=\"text-align: right;\">\n",
       "      <th></th>\n",
       "      <th>Date</th>\n",
       "      <th>Open</th>\n",
       "      <th>High</th>\n",
       "      <th>Low</th>\n",
       "      <th>Close</th>\n",
       "      <th>Adj Close</th>\n",
       "      <th>Volume</th>\n",
       "    </tr>\n",
       "  </thead>\n",
       "  <tbody>\n",
       "    <tr>\n",
       "      <th>0</th>\n",
       "      <td>2000-01-03</td>\n",
       "      <td>1.08158</td>\n",
       "      <td>1.08158</td>\n",
       "      <td>1.08158</td>\n",
       "      <td>1.08158</td>\n",
       "      <td>0.866204</td>\n",
       "      <td>6990.0</td>\n",
       "    </tr>\n",
       "    <tr>\n",
       "      <th>1</th>\n",
       "      <td>2000-01-04</td>\n",
       "      <td>1.08158</td>\n",
       "      <td>1.08158</td>\n",
       "      <td>1.08158</td>\n",
       "      <td>1.08158</td>\n",
       "      <td>0.866204</td>\n",
       "      <td>16309.0</td>\n",
       "    </tr>\n",
       "    <tr>\n",
       "      <th>2</th>\n",
       "      <td>2000-01-05</td>\n",
       "      <td>1.08158</td>\n",
       "      <td>1.08158</td>\n",
       "      <td>1.08158</td>\n",
       "      <td>1.08158</td>\n",
       "      <td>0.866204</td>\n",
       "      <td>16309.0</td>\n",
       "    </tr>\n",
       "    <tr>\n",
       "      <th>3</th>\n",
       "      <td>2000-01-06</td>\n",
       "      <td>1.08158</td>\n",
       "      <td>1.08158</td>\n",
       "      <td>1.08158</td>\n",
       "      <td>1.08158</td>\n",
       "      <td>0.866204</td>\n",
       "      <td>100963.0</td>\n",
       "    </tr>\n",
       "    <tr>\n",
       "      <th>4</th>\n",
       "      <td>2000-01-07</td>\n",
       "      <td>1.08158</td>\n",
       "      <td>1.08158</td>\n",
       "      <td>1.08158</td>\n",
       "      <td>1.08158</td>\n",
       "      <td>0.866204</td>\n",
       "      <td>777.0</td>\n",
       "    </tr>\n",
       "  </tbody>\n",
       "</table>\n",
       "</div>"
      ],
      "text/plain": [
       "         Date     Open     High      Low    Close  Adj Close    Volume\n",
       "0  2000-01-03  1.08158  1.08158  1.08158  1.08158   0.866204    6990.0\n",
       "1  2000-01-04  1.08158  1.08158  1.08158  1.08158   0.866204   16309.0\n",
       "2  2000-01-05  1.08158  1.08158  1.08158  1.08158   0.866204   16309.0\n",
       "3  2000-01-06  1.08158  1.08158  1.08158  1.08158   0.866204  100963.0\n",
       "4  2000-01-07  1.08158  1.08158  1.08158  1.08158   0.866204     777.0"
      ]
     },
     "execution_count": 3,
     "metadata": {},
     "output_type": "execute_result"
    }
   ],
   "source": [
    "vv.head()"
   ]
  },
  {
   "cell_type": "code",
   "execution_count": 12,
   "metadata": {},
   "outputs": [
    {
     "data": {
      "text/plain": [
       "(5106, 7)"
      ]
     },
     "execution_count": 12,
     "metadata": {},
     "output_type": "execute_result"
    }
   ],
   "source": [
    "vv.shape\n"
   ]
  },
  {
   "cell_type": "code",
   "execution_count": 67,
   "metadata": {},
   "outputs": [
    {
     "data": {
      "image/png": "[encoded data removed]",
      "text/plain": [
       "<Figure size 432x288 with 1 Axes>"
      ]
     },
     "metadata": {
      "needs_background": "light"
     },
     "output_type": "display_data"
    }
   ],
   "source": [
    "#comparação gráfica inicial Arezzo vs Via Varejo; arezzo definida como ar e via varejo como vv\n",
    "import matplotlib.pyplot as plt\n",
    "vv['Close'].plot(label='vv')\n",
    "ar['Close'].plot(label='ar')\n",
    "plt.legend()\n",
    "plt.show()"
   ]
  },
  {
   "cell_type": "code",
   "execution_count": 50,
   "metadata": {},
   "outputs": [
    {
     "data": {
      "text/html": [
       "<div>\n",
       "<style scoped>\n",
       "    .dataframe tbody tr th:only-of-type {\n",
       "        vertical-align: middle;\n",
       "    }\n",
       "\n",
       "    .dataframe tbody tr th {\n",
       "        vertical-align: top;\n",
       "    }\n",
       "\n",
       "    .dataframe thead th {\n",
       "        text-align: right;\n",
       "    }\n",
       "</style>\n",
       "<table border=\"1\" class=\"dataframe\">\n",
       "  <thead>\n",
       "    <tr style=\"text-align: right;\">\n",
       "      <th></th>\n",
       "      <th>Date</th>\n",
       "      <th>Open</th>\n",
       "      <th>High</th>\n",
       "      <th>Low</th>\n",
       "      <th>Close</th>\n",
       "      <th>Adj Close</th>\n",
       "      <th>Volume</th>\n",
       "      <th>Returns</th>\n",
       "      <th>Daily Ret</th>\n",
       "    </tr>\n",
       "  </thead>\n",
       "  <tbody>\n",
       "    <tr>\n",
       "      <th>5101</th>\n",
       "      <td>2020-04-08</td>\n",
       "      <td>4.35</td>\n",
       "      <td>5.15</td>\n",
       "      <td>4.28</td>\n",
       "      <td>5.03</td>\n",
       "      <td>5.03</td>\n",
       "      <td>120215800.0</td>\n",
       "      <td>0.68</td>\n",
       "      <td>0.135189</td>\n",
       "    </tr>\n",
       "    <tr>\n",
       "      <th>5102</th>\n",
       "      <td>2020-04-09</td>\n",
       "      <td>5.32</td>\n",
       "      <td>5.54</td>\n",
       "      <td>5.01</td>\n",
       "      <td>5.15</td>\n",
       "      <td>5.15</td>\n",
       "      <td>114671500.0</td>\n",
       "      <td>-0.17</td>\n",
       "      <td>-0.033010</td>\n",
       "    </tr>\n",
       "    <tr>\n",
       "      <th>5103</th>\n",
       "      <td>2020-04-13</td>\n",
       "      <td>5.05</td>\n",
       "      <td>5.45</td>\n",
       "      <td>5.02</td>\n",
       "      <td>5.40</td>\n",
       "      <td>5.40</td>\n",
       "      <td>74853000.0</td>\n",
       "      <td>0.35</td>\n",
       "      <td>0.064815</td>\n",
       "    </tr>\n",
       "    <tr>\n",
       "      <th>5104</th>\n",
       "      <td>2020-04-14</td>\n",
       "      <td>5.68</td>\n",
       "      <td>6.10</td>\n",
       "      <td>5.62</td>\n",
       "      <td>6.05</td>\n",
       "      <td>6.05</td>\n",
       "      <td>93015800.0</td>\n",
       "      <td>0.37</td>\n",
       "      <td>0.061157</td>\n",
       "    </tr>\n",
       "    <tr>\n",
       "      <th>5105</th>\n",
       "      <td>2020-04-15</td>\n",
       "      <td>5.77</td>\n",
       "      <td>6.57</td>\n",
       "      <td>5.66</td>\n",
       "      <td>6.36</td>\n",
       "      <td>6.36</td>\n",
       "      <td>114630700.0</td>\n",
       "      <td>0.59</td>\n",
       "      <td>0.092767</td>\n",
       "    </tr>\n",
       "  </tbody>\n",
       "</table>\n",
       "</div>"
      ],
      "text/plain": [
       "            Date  Open  High   Low  Close  Adj Close       Volume  Returns  \\\n",
       "5101  2020-04-08  4.35  5.15  4.28   5.03       5.03  120215800.0     0.68   \n",
       "5102  2020-04-09  5.32  5.54  5.01   5.15       5.15  114671500.0    -0.17   \n",
       "5103  2020-04-13  5.05  5.45  5.02   5.40       5.40   74853000.0     0.35   \n",
       "5104  2020-04-14  5.68  6.10  5.62   6.05       6.05   93015800.0     0.37   \n",
       "5105  2020-04-15  5.77  6.57  5.66   6.36       6.36  114630700.0     0.59   \n",
       "\n",
       "      Daily Ret  \n",
       "5101   0.135189  \n",
       "5102  -0.033010  \n",
       "5103   0.064815  \n",
       "5104   0.061157  \n",
       "5105   0.092767  "
      ]
     },
     "execution_count": 50,
     "metadata": {},
     "output_type": "execute_result"
    }
   ],
   "source": [
    "#criação das colunas de retornos e retornos diários\n",
    "vv['Returns'] = vv['Close'] - vv['Open']\n",
    "vv.tail()\n",
    "vv['Daily Ret'] = vv['Returns'] / vv['Close']\n",
    "vv.tail()"
   ]
  },
  {
   "cell_type": "code",
   "execution_count": 53,
   "metadata": {},
   "outputs": [],
   "source": [
    "#criação de uma coluna para identificar as rentabilidades positivas(>0) e as negativas(<0)\n",
    "vv['Direction'] = [1 if vv.loc[ei,'Returns']> 0 else -1\n",
    "                  for ei in vv.index]"
   ]
  },
  {
   "cell_type": "code",
   "execution_count": 69,
   "metadata": {},
   "outputs": [
    {
     "data": {
      "text/plain": [
       "<matplotlib.legend.Legend at 0xda740c8>"
      ]
     },
     "execution_count": 69,
     "metadata": {},
     "output_type": "execute_result"
    },
    {
     "data": {
      "image/png": "[encoded data removed]",
      "text/plain": [
       "<Figure size 432x288 with 1 Axes>"
      ]
     },
     "metadata": {
      "needs_background": "light"
     },
     "output_type": "display_data"
    }
   ],
   "source": [
    "#criação das médias móveis para a visualização de tendências de trading\n",
    "vv['MVA200'] = vv['Close'].rolling(200).mean()\n",
    "vv.tail()\n",
    "vv['MVA40'] = vv['Close'].rolling(40).mean()\n",
    "vv['MVA200'].plot()\n",
    "vv['Close'].plot()\n",
    "plt.legend()"
   ]
  },
  {
   "cell_type": "code",
   "execution_count": 70,
   "metadata": {},
   "outputs": [
    {
     "data": {
      "text/html": [
       "<div>\n",
       "<style scoped>\n",
       "    .dataframe tbody tr th:only-of-type {\n",
       "        vertical-align: middle;\n",
       "    }\n",
       "\n",
       "    .dataframe tbody tr th {\n",
       "        vertical-align: top;\n",
       "    }\n",
       "\n",
       "    .dataframe thead th {\n",
       "        text-align: right;\n",
       "    }\n",
       "</style>\n",
       "<table border=\"1\" class=\"dataframe\">\n",
       "  <thead>\n",
       "    <tr style=\"text-align: right;\">\n",
       "      <th></th>\n",
       "      <th>Open</th>\n",
       "      <th>High</th>\n",
       "      <th>Low</th>\n",
       "      <th>Close</th>\n",
       "      <th>Adj Close</th>\n",
       "      <th>Volume</th>\n",
       "      <th>Returns</th>\n",
       "      <th>Daily Ret</th>\n",
       "      <th>Direction</th>\n",
       "      <th>MVA200</th>\n",
       "      <th>MVA40</th>\n",
       "    </tr>\n",
       "  </thead>\n",
       "  <tbody>\n",
       "    <tr>\n",
       "      <th>count</th>\n",
       "      <td>4880.000000</td>\n",
       "      <td>4880.000000</td>\n",
       "      <td>4880.000000</td>\n",
       "      <td>4880.000000</td>\n",
       "      <td>4880.000000</td>\n",
       "      <td>4.880000e+03</td>\n",
       "      <td>4880.000000</td>\n",
       "      <td>4880.000000</td>\n",
       "      <td>5106.000000</td>\n",
       "      <td>2566.000000</td>\n",
       "      <td>0.0</td>\n",
       "    </tr>\n",
       "    <tr>\n",
       "      <th>mean</th>\n",
       "      <td>4.022212</td>\n",
       "      <td>4.070066</td>\n",
       "      <td>3.927985</td>\n",
       "      <td>3.973378</td>\n",
       "      <td>3.603475</td>\n",
       "      <td>2.557371e+06</td>\n",
       "      <td>-0.048834</td>\n",
       "      <td>-0.025126</td>\n",
       "      <td>-0.703486</td>\n",
       "      <td>3.764210</td>\n",
       "      <td>NaN</td>\n",
       "    </tr>\n",
       "    <tr>\n",
       "      <th>std</th>\n",
       "      <td>2.652140</td>\n",
       "      <td>2.689498</td>\n",
       "      <td>2.595540</td>\n",
       "      <td>2.636157</td>\n",
       "      <td>2.569098</td>\n",
       "      <td>1.384682e+07</td>\n",
       "      <td>0.396169</td>\n",
       "      <td>0.215299</td>\n",
       "      <td>0.710779</td>\n",
       "      <td>2.464674</td>\n",
       "      <td>NaN</td>\n",
       "    </tr>\n",
       "    <tr>\n",
       "      <th>min</th>\n",
       "      <td>0.361510</td>\n",
       "      <td>0.361510</td>\n",
       "      <td>0.361510</td>\n",
       "      <td>0.361510</td>\n",
       "      <td>0.289522</td>\n",
       "      <td>0.000000e+00</td>\n",
       "      <td>-13.556470</td>\n",
       "      <td>-6.024923</td>\n",
       "      <td>-1.000000</td>\n",
       "      <td>0.524185</td>\n",
       "      <td>NaN</td>\n",
       "    </tr>\n",
       "    <tr>\n",
       "      <th>25%</th>\n",
       "      <td>1.988290</td>\n",
       "      <td>1.988290</td>\n",
       "      <td>1.885625</td>\n",
       "      <td>1.917500</td>\n",
       "      <td>1.592360</td>\n",
       "      <td>0.000000e+00</td>\n",
       "      <td>0.000000</td>\n",
       "      <td>0.000000</td>\n",
       "      <td>-1.000000</td>\n",
       "      <td>1.281336</td>\n",
       "      <td>NaN</td>\n",
       "    </tr>\n",
       "    <tr>\n",
       "      <th>50%</th>\n",
       "      <td>3.600000</td>\n",
       "      <td>3.615070</td>\n",
       "      <td>3.500000</td>\n",
       "      <td>3.545000</td>\n",
       "      <td>3.021597</td>\n",
       "      <td>0.000000e+00</td>\n",
       "      <td>0.000000</td>\n",
       "      <td>0.000000</td>\n",
       "      <td>-1.000000</td>\n",
       "      <td>3.566975</td>\n",
       "      <td>NaN</td>\n",
       "    </tr>\n",
       "    <tr>\n",
       "      <th>75%</th>\n",
       "      <td>6.000000</td>\n",
       "      <td>6.102500</td>\n",
       "      <td>5.990000</td>\n",
       "      <td>6.000000</td>\n",
       "      <td>5.361791</td>\n",
       "      <td>9.600000e+03</td>\n",
       "      <td>0.000000</td>\n",
       "      <td>0.000000</td>\n",
       "      <td>-1.000000</td>\n",
       "      <td>6.156613</td>\n",
       "      <td>NaN</td>\n",
       "    </tr>\n",
       "    <tr>\n",
       "      <th>max</th>\n",
       "      <td>18.075300</td>\n",
       "      <td>18.075300</td>\n",
       "      <td>15.770000</td>\n",
       "      <td>16.639999</td>\n",
       "      <td>16.639999</td>\n",
       "      <td>5.399875e+08</td>\n",
       "      <td>2.000000</td>\n",
       "      <td>0.266667</td>\n",
       "      <td>1.000000</td>\n",
       "      <td>8.445700</td>\n",
       "      <td>NaN</td>\n",
       "    </tr>\n",
       "  </tbody>\n",
       "</table>\n",
       "</div>"
      ],
      "text/plain": [
       "              Open         High          Low        Close    Adj Close  \\\n",
       "count  4880.000000  4880.000000  4880.000000  4880.000000  4880.000000   \n",
       "mean      4.022212     4.070066     3.927985     3.973378     3.603475   \n",
       "std       2.652140     2.689498     2.595540     2.636157     2.569098   \n",
       "min       0.361510     0.361510     0.361510     0.361510     0.289522   \n",
       "25%       1.988290     1.988290     1.885625     1.917500     1.592360   \n",
       "50%       3.600000     3.615070     3.500000     3.545000     3.021597   \n",
       "75%       6.000000     6.102500     5.990000     6.000000     5.361791   \n",
       "max      18.075300    18.075300    15.770000    16.639999    16.639999   \n",
       "\n",
       "             Volume      Returns    Daily Ret    Direction       MVA200  MVA40  \n",
       "count  4.880000e+03  4880.000000  4880.000000  5106.000000  2566.000000    0.0  \n",
       "mean   2.557371e+06    -0.048834    -0.025126    -0.703486     3.764210    NaN  \n",
       "std    1.384682e+07     0.396169     0.215299     0.710779     2.464674    NaN  \n",
       "min    0.000000e+00   -13.556470    -6.024923    -1.000000     0.524185    NaN  \n",
       "25%    0.000000e+00     0.000000     0.000000    -1.000000     1.281336    NaN  \n",
       "50%    0.000000e+00     0.000000     0.000000    -1.000000     3.566975    NaN  \n",
       "75%    9.600000e+03     0.000000     0.000000    -1.000000     6.156613    NaN  \n",
       "max    5.399875e+08     2.000000     0.266667     1.000000     8.445700    NaN  "
      ]
     },
     "execution_count": 70,
     "metadata": {},
     "output_type": "execute_result"
    }
   ],
   "source": [
    "vv.describe()"
   ]
  },
  {
   "cell_type": "code",
   "execution_count": 73,
   "metadata": {},
   "outputs": [
    {
     "data": {
      "text/html": [
       "<div>\n",
       "<style scoped>\n",
       "    .dataframe tbody tr th:only-of-type {\n",
       "        vertical-align: middle;\n",
       "    }\n",
       "\n",
       "    .dataframe tbody tr th {\n",
       "        vertical-align: top;\n",
       "    }\n",
       "\n",
       "    .dataframe thead th {\n",
       "        text-align: right;\n",
       "    }\n",
       "</style>\n",
       "<table border=\"1\" class=\"dataframe\">\n",
       "  <thead>\n",
       "    <tr style=\"text-align: right;\">\n",
       "      <th></th>\n",
       "      <th>Date</th>\n",
       "      <th>Open</th>\n",
       "      <th>High</th>\n",
       "      <th>Low</th>\n",
       "      <th>Close</th>\n",
       "      <th>Adj Close</th>\n",
       "      <th>Volume</th>\n",
       "      <th>Returns</th>\n",
       "      <th>Daily Ret</th>\n",
       "      <th>Direction</th>\n",
       "      <th>MVA200</th>\n",
       "      <th>MVA40</th>\n",
       "      <th>PriceDiff</th>\n",
       "    </tr>\n",
       "  </thead>\n",
       "  <tbody>\n",
       "    <tr>\n",
       "      <th>5101</th>\n",
       "      <td>2020-04-08</td>\n",
       "      <td>4.35</td>\n",
       "      <td>5.15</td>\n",
       "      <td>4.28</td>\n",
       "      <td>5.03</td>\n",
       "      <td>5.03</td>\n",
       "      <td>120215800.0</td>\n",
       "      <td>0.68</td>\n",
       "      <td>0.135189</td>\n",
       "      <td>1</td>\n",
       "      <td>NaN</td>\n",
       "      <td>NaN</td>\n",
       "      <td>0.12</td>\n",
       "    </tr>\n",
       "    <tr>\n",
       "      <th>5102</th>\n",
       "      <td>2020-04-09</td>\n",
       "      <td>5.32</td>\n",
       "      <td>5.54</td>\n",
       "      <td>5.01</td>\n",
       "      <td>5.15</td>\n",
       "      <td>5.15</td>\n",
       "      <td>114671500.0</td>\n",
       "      <td>-0.17</td>\n",
       "      <td>-0.033010</td>\n",
       "      <td>-1</td>\n",
       "      <td>NaN</td>\n",
       "      <td>NaN</td>\n",
       "      <td>0.25</td>\n",
       "    </tr>\n",
       "    <tr>\n",
       "      <th>5103</th>\n",
       "      <td>2020-04-13</td>\n",
       "      <td>5.05</td>\n",
       "      <td>5.45</td>\n",
       "      <td>5.02</td>\n",
       "      <td>5.40</td>\n",
       "      <td>5.40</td>\n",
       "      <td>74853000.0</td>\n",
       "      <td>0.35</td>\n",
       "      <td>0.064815</td>\n",
       "      <td>1</td>\n",
       "      <td>NaN</td>\n",
       "      <td>NaN</td>\n",
       "      <td>0.65</td>\n",
       "    </tr>\n",
       "    <tr>\n",
       "      <th>5104</th>\n",
       "      <td>2020-04-14</td>\n",
       "      <td>5.68</td>\n",
       "      <td>6.10</td>\n",
       "      <td>5.62</td>\n",
       "      <td>6.05</td>\n",
       "      <td>6.05</td>\n",
       "      <td>93015800.0</td>\n",
       "      <td>0.37</td>\n",
       "      <td>0.061157</td>\n",
       "      <td>1</td>\n",
       "      <td>NaN</td>\n",
       "      <td>NaN</td>\n",
       "      <td>0.31</td>\n",
       "    </tr>\n",
       "    <tr>\n",
       "      <th>5105</th>\n",
       "      <td>2020-04-15</td>\n",
       "      <td>5.77</td>\n",
       "      <td>6.57</td>\n",
       "      <td>5.66</td>\n",
       "      <td>6.36</td>\n",
       "      <td>6.36</td>\n",
       "      <td>114630700.0</td>\n",
       "      <td>0.59</td>\n",
       "      <td>0.092767</td>\n",
       "      <td>1</td>\n",
       "      <td>NaN</td>\n",
       "      <td>NaN</td>\n",
       "      <td>NaN</td>\n",
       "    </tr>\n",
       "  </tbody>\n",
       "</table>\n",
       "</div>"
      ],
      "text/plain": [
       "            Date  Open  High   Low  Close  Adj Close       Volume  Returns  \\\n",
       "5101  2020-04-08  4.35  5.15  4.28   5.03       5.03  120215800.0     0.68   \n",
       "5102  2020-04-09  5.32  5.54  5.01   5.15       5.15  114671500.0    -0.17   \n",
       "5103  2020-04-13  5.05  5.45  5.02   5.40       5.40   74853000.0     0.35   \n",
       "5104  2020-04-14  5.68  6.10  5.62   6.05       6.05   93015800.0     0.37   \n",
       "5105  2020-04-15  5.77  6.57  5.66   6.36       6.36  114630700.0     0.59   \n",
       "\n",
       "      Daily Ret  Direction  MVA200  MVA40  PriceDiff  \n",
       "5101   0.135189          1     NaN    NaN       0.12  \n",
       "5102  -0.033010         -1     NaN    NaN       0.25  \n",
       "5103   0.064815          1     NaN    NaN       0.65  \n",
       "5104   0.061157          1     NaN    NaN       0.31  \n",
       "5105   0.092767          1     NaN    NaN        NaN  "
      ]
     },
     "execution_count": 73,
     "metadata": {},
     "output_type": "execute_result"
    }
   ],
   "source": [
    "vv['PriceDiff'] = vv['Close'].shift(-1) - vv['Close']\n",
    "vv.tail()"
   ]
  },
  {
   "cell_type": "code",
   "execution_count": 70,
   "metadata": {},
   "outputs": [
    {
     "data": {
      "text/plain": [
       "<matplotlib.legend.Legend at 0xdae9288>"
      ]
     },
     "execution_count": 70,
     "metadata": {},
     "output_type": "execute_result"
    },
    {
     "data": {
      "image/png": "[encoded data removed]",
      "text/plain": [
       "<Figure size 432x288 with 1 Axes>"
      ]
     },
     "metadata": {
      "needs_background": "light"
     },
     "output_type": "display_data"
    }
   ],
   "source": [
    "ar['MA10'] = ar['Close'].rolling(10).mean()\n",
    "ar['MA50'] = ar['Close'].rolling(50).mean()\n",
    "ar['Close'].plot()\n",
    "ar['MA10'].plot()\n",
    "ar['MA50'].plot()\n",
    "plt.legend()"
   ]
  },
  {
   "cell_type": "code",
   "execution_count": 11,
   "metadata": {},
   "outputs": [
    {
     "data": {
      "text/html": [
       "<div>\n",
       "<style scoped>\n",
       "    .dataframe tbody tr th:only-of-type {\n",
       "        vertical-align: middle;\n",
       "    }\n",
       "\n",
       "    .dataframe tbody tr th {\n",
       "        vertical-align: top;\n",
       "    }\n",
       "\n",
       "    .dataframe thead th {\n",
       "        text-align: right;\n",
       "    }\n",
       "</style>\n",
       "<table border=\"1\" class=\"dataframe\">\n",
       "  <thead>\n",
       "    <tr style=\"text-align: right;\">\n",
       "      <th></th>\n",
       "      <th>Date</th>\n",
       "      <th>Open</th>\n",
       "      <th>High</th>\n",
       "      <th>Low</th>\n",
       "      <th>Close</th>\n",
       "      <th>Adj Close</th>\n",
       "      <th>Volume</th>\n",
       "      <th>MA10</th>\n",
       "      <th>MA50</th>\n",
       "      <th>Shares</th>\n",
       "    </tr>\n",
       "  </thead>\n",
       "  <tbody>\n",
       "    <tr>\n",
       "      <th>1239</th>\n",
       "      <td>2020-04-14</td>\n",
       "      <td>37.000000</td>\n",
       "      <td>39.599998</td>\n",
       "      <td>37.000000</td>\n",
       "      <td>37.400002</td>\n",
       "      <td>37.400002</td>\n",
       "      <td>798700.0</td>\n",
       "      <td>36.959999</td>\n",
       "      <td>NaN</td>\n",
       "      <td>0</td>\n",
       "    </tr>\n",
       "    <tr>\n",
       "      <th>1240</th>\n",
       "      <td>2020-04-15</td>\n",
       "      <td>36.820000</td>\n",
       "      <td>39.810001</td>\n",
       "      <td>36.500000</td>\n",
       "      <td>38.380001</td>\n",
       "      <td>38.380001</td>\n",
       "      <td>758700.0</td>\n",
       "      <td>37.111000</td>\n",
       "      <td>NaN</td>\n",
       "      <td>0</td>\n",
       "    </tr>\n",
       "    <tr>\n",
       "      <th>1241</th>\n",
       "      <td>2020-04-16</td>\n",
       "      <td>38.509998</td>\n",
       "      <td>40.099998</td>\n",
       "      <td>37.700001</td>\n",
       "      <td>40.099998</td>\n",
       "      <td>40.099998</td>\n",
       "      <td>862200.0</td>\n",
       "      <td>37.511000</td>\n",
       "      <td>NaN</td>\n",
       "      <td>0</td>\n",
       "    </tr>\n",
       "    <tr>\n",
       "      <th>1242</th>\n",
       "      <td>2020-04-17</td>\n",
       "      <td>41.000000</td>\n",
       "      <td>43.340000</td>\n",
       "      <td>40.349998</td>\n",
       "      <td>42.299999</td>\n",
       "      <td>42.299999</td>\n",
       "      <td>846600.0</td>\n",
       "      <td>38.131999</td>\n",
       "      <td>NaN</td>\n",
       "      <td>0</td>\n",
       "    </tr>\n",
       "    <tr>\n",
       "      <th>1243</th>\n",
       "      <td>2020-04-20</td>\n",
       "      <td>42.000000</td>\n",
       "      <td>46.450001</td>\n",
       "      <td>41.110001</td>\n",
       "      <td>44.930000</td>\n",
       "      <td>44.930000</td>\n",
       "      <td>836900.0</td>\n",
       "      <td>39.322000</td>\n",
       "      <td>NaN</td>\n",
       "      <td>0</td>\n",
       "    </tr>\n",
       "  </tbody>\n",
       "</table>\n",
       "</div>"
      ],
      "text/plain": [
       "            Date       Open       High        Low      Close  Adj Close  \\\n",
       "1239  2020-04-14  37.000000  39.599998  37.000000  37.400002  37.400002   \n",
       "1240  2020-04-15  36.820000  39.810001  36.500000  38.380001  38.380001   \n",
       "1241  2020-04-16  38.509998  40.099998  37.700001  40.099998  40.099998   \n",
       "1242  2020-04-17  41.000000  43.340000  40.349998  42.299999  42.299999   \n",
       "1243  2020-04-20  42.000000  46.450001  41.110001  44.930000  44.930000   \n",
       "\n",
       "        Volume       MA10  MA50  Shares  \n",
       "1239  798700.0  36.959999   NaN       0  \n",
       "1240  758700.0  37.111000   NaN       0  \n",
       "1241  862200.0  37.511000   NaN       0  \n",
       "1242  846600.0  38.131999   NaN       0  \n",
       "1243  836900.0  39.322000   NaN       0  "
      ]
     },
     "execution_count": 11,
     "metadata": {},
     "output_type": "execute_result"
    }
   ],
   "source": [
    "#criação do identifcador para trendfollowing shares, quando esse >0 significa sinal de compra do papel\n",
    "ar['Shares'] = [1 if ar.loc[ei,'MA10']>ar.loc[ei,'MA50']else 0\n",
    "                for ei in ar.index]\n",
    "ar.tail()"
   ]
  },
  {
   "cell_type": "code",
   "execution_count": 12,
   "metadata": {},
   "outputs": [
    {
     "data": {
      "text/html": [
       "<div>\n",
       "<style scoped>\n",
       "    .dataframe tbody tr th:only-of-type {\n",
       "        vertical-align: middle;\n",
       "    }\n",
       "\n",
       "    .dataframe tbody tr th {\n",
       "        vertical-align: top;\n",
       "    }\n",
       "\n",
       "    .dataframe thead th {\n",
       "        text-align: right;\n",
       "    }\n",
       "</style>\n",
       "<table border=\"1\" class=\"dataframe\">\n",
       "  <thead>\n",
       "    <tr style=\"text-align: right;\">\n",
       "      <th></th>\n",
       "      <th>Date</th>\n",
       "      <th>Open</th>\n",
       "      <th>High</th>\n",
       "      <th>Low</th>\n",
       "      <th>Close</th>\n",
       "      <th>Adj Close</th>\n",
       "      <th>Volume</th>\n",
       "      <th>MA10</th>\n",
       "      <th>MA50</th>\n",
       "      <th>Shares</th>\n",
       "      <th>Close1</th>\n",
       "    </tr>\n",
       "  </thead>\n",
       "  <tbody>\n",
       "    <tr>\n",
       "      <th>1000</th>\n",
       "      <td>2019-04-29</td>\n",
       "      <td>51.680000</td>\n",
       "      <td>51.680000</td>\n",
       "      <td>49.830002</td>\n",
       "      <td>50.080002</td>\n",
       "      <td>49.525795</td>\n",
       "      <td>229600.0</td>\n",
       "      <td>48.586001</td>\n",
       "      <td>NaN</td>\n",
       "      <td>0</td>\n",
       "      <td>51.000000</td>\n",
       "    </tr>\n",
       "    <tr>\n",
       "      <th>1001</th>\n",
       "      <td>2019-04-30</td>\n",
       "      <td>50.110001</td>\n",
       "      <td>51.000000</td>\n",
       "      <td>49.570000</td>\n",
       "      <td>51.000000</td>\n",
       "      <td>50.435616</td>\n",
       "      <td>387700.0</td>\n",
       "      <td>48.846000</td>\n",
       "      <td>NaN</td>\n",
       "      <td>0</td>\n",
       "      <td>50.000000</td>\n",
       "    </tr>\n",
       "    <tr>\n",
       "      <th>1002</th>\n",
       "      <td>2019-05-02</td>\n",
       "      <td>50.689999</td>\n",
       "      <td>50.779999</td>\n",
       "      <td>49.470001</td>\n",
       "      <td>50.000000</td>\n",
       "      <td>49.637852</td>\n",
       "      <td>144900.0</td>\n",
       "      <td>49.135000</td>\n",
       "      <td>NaN</td>\n",
       "      <td>0</td>\n",
       "      <td>51.180000</td>\n",
       "    </tr>\n",
       "    <tr>\n",
       "      <th>1003</th>\n",
       "      <td>2019-05-03</td>\n",
       "      <td>50.470001</td>\n",
       "      <td>51.180000</td>\n",
       "      <td>49.720001</td>\n",
       "      <td>51.180000</td>\n",
       "      <td>50.809303</td>\n",
       "      <td>206600.0</td>\n",
       "      <td>49.633000</td>\n",
       "      <td>NaN</td>\n",
       "      <td>0</td>\n",
       "      <td>50.200001</td>\n",
       "    </tr>\n",
       "    <tr>\n",
       "      <th>1004</th>\n",
       "      <td>2019-05-06</td>\n",
       "      <td>50.700001</td>\n",
       "      <td>50.950001</td>\n",
       "      <td>49.799999</td>\n",
       "      <td>50.200001</td>\n",
       "      <td>49.836399</td>\n",
       "      <td>215000.0</td>\n",
       "      <td>49.913000</td>\n",
       "      <td>NaN</td>\n",
       "      <td>0</td>\n",
       "      <td>50.660000</td>\n",
       "    </tr>\n",
       "    <tr>\n",
       "      <th>...</th>\n",
       "      <td>...</td>\n",
       "      <td>...</td>\n",
       "      <td>...</td>\n",
       "      <td>...</td>\n",
       "      <td>...</td>\n",
       "      <td>...</td>\n",
       "      <td>...</td>\n",
       "      <td>...</td>\n",
       "      <td>...</td>\n",
       "      <td>...</td>\n",
       "      <td>...</td>\n",
       "    </tr>\n",
       "    <tr>\n",
       "      <th>1195</th>\n",
       "      <td>2020-02-07</td>\n",
       "      <td>60.759998</td>\n",
       "      <td>61.240002</td>\n",
       "      <td>58.950001</td>\n",
       "      <td>60.680000</td>\n",
       "      <td>60.680000</td>\n",
       "      <td>360000.0</td>\n",
       "      <td>62.152000</td>\n",
       "      <td>63.6338</td>\n",
       "      <td>0</td>\n",
       "      <td>58.480000</td>\n",
       "    </tr>\n",
       "    <tr>\n",
       "      <th>1196</th>\n",
       "      <td>2020-02-10</td>\n",
       "      <td>60.669998</td>\n",
       "      <td>60.860001</td>\n",
       "      <td>57.709999</td>\n",
       "      <td>58.480000</td>\n",
       "      <td>58.480000</td>\n",
       "      <td>534700.0</td>\n",
       "      <td>61.731000</td>\n",
       "      <td>63.5494</td>\n",
       "      <td>0</td>\n",
       "      <td>59.689999</td>\n",
       "    </tr>\n",
       "    <tr>\n",
       "      <th>1197</th>\n",
       "      <td>2020-02-11</td>\n",
       "      <td>58.889999</td>\n",
       "      <td>59.779999</td>\n",
       "      <td>58.080002</td>\n",
       "      <td>59.689999</td>\n",
       "      <td>59.689999</td>\n",
       "      <td>425500.0</td>\n",
       "      <td>61.336000</td>\n",
       "      <td>63.4992</td>\n",
       "      <td>0</td>\n",
       "      <td>61.799999</td>\n",
       "    </tr>\n",
       "    <tr>\n",
       "      <th>1198</th>\n",
       "      <td>2020-02-12</td>\n",
       "      <td>59.790001</td>\n",
       "      <td>61.799999</td>\n",
       "      <td>59.180000</td>\n",
       "      <td>61.799999</td>\n",
       "      <td>61.799999</td>\n",
       "      <td>513600.0</td>\n",
       "      <td>61.092000</td>\n",
       "      <td>63.4896</td>\n",
       "      <td>0</td>\n",
       "      <td>63.630001</td>\n",
       "    </tr>\n",
       "    <tr>\n",
       "      <th>1199</th>\n",
       "      <td>2020-02-13</td>\n",
       "      <td>60.990002</td>\n",
       "      <td>63.759998</td>\n",
       "      <td>60.360001</td>\n",
       "      <td>63.630001</td>\n",
       "      <td>63.630001</td>\n",
       "      <td>628200.0</td>\n",
       "      <td>61.171000</td>\n",
       "      <td>63.5122</td>\n",
       "      <td>0</td>\n",
       "      <td>62.500000</td>\n",
       "    </tr>\n",
       "  </tbody>\n",
       "</table>\n",
       "<p>200 rows × 11 columns</p>\n",
       "</div>"
      ],
      "text/plain": [
       "            Date       Open       High        Low      Close  Adj Close  \\\n",
       "1000  2019-04-29  51.680000  51.680000  49.830002  50.080002  49.525795   \n",
       "1001  2019-04-30  50.110001  51.000000  49.570000  51.000000  50.435616   \n",
       "1002  2019-05-02  50.689999  50.779999  49.470001  50.000000  49.637852   \n",
       "1003  2019-05-03  50.470001  51.180000  49.720001  51.180000  50.809303   \n",
       "1004  2019-05-06  50.700001  50.950001  49.799999  50.200001  49.836399   \n",
       "...          ...        ...        ...        ...        ...        ...   \n",
       "1195  2020-02-07  60.759998  61.240002  58.950001  60.680000  60.680000   \n",
       "1196  2020-02-10  60.669998  60.860001  57.709999  58.480000  58.480000   \n",
       "1197  2020-02-11  58.889999  59.779999  58.080002  59.689999  59.689999   \n",
       "1198  2020-02-12  59.790001  61.799999  59.180000  61.799999  61.799999   \n",
       "1199  2020-02-13  60.990002  63.759998  60.360001  63.630001  63.630001   \n",
       "\n",
       "        Volume       MA10     MA50  Shares     Close1  \n",
       "1000  229600.0  48.586001      NaN       0  51.000000  \n",
       "1001  387700.0  48.846000      NaN       0  50.000000  \n",
       "1002  144900.0  49.135000      NaN       0  51.180000  \n",
       "1003  206600.0  49.633000      NaN       0  50.200001  \n",
       "1004  215000.0  49.913000      NaN       0  50.660000  \n",
       "...        ...        ...      ...     ...        ...  \n",
       "1195  360000.0  62.152000  63.6338       0  58.480000  \n",
       "1196  534700.0  61.731000  63.5494       0  59.689999  \n",
       "1197  425500.0  61.336000  63.4992       0  61.799999  \n",
       "1198  513600.0  61.092000  63.4896       0  63.630001  \n",
       "1199  628200.0  61.171000  63.5122       0  62.500000  \n",
       "\n",
       "[200 rows x 11 columns]"
      ]
     },
     "execution_count": 12,
     "metadata": {},
     "output_type": "execute_result"
    }
   ],
   "source": [
    "#criando daily profit\n",
    "ar['Close1'] = ar['Close'].shift(-1)\n",
    "ar.iloc[1000:1200,:]"
   ]
  },
  {
   "cell_type": "code",
   "execution_count": 13,
   "metadata": {},
   "outputs": [],
   "source": [
    "ar['Profit'] = [ar.loc[ei,'Close1']-ar.loc[ei,'Close']\n",
    "                if ar.loc[ei,'Shares']==1\n",
    "                else 0 for ei in ar.index]"
   ]
  },
  {
   "cell_type": "code",
   "execution_count": 71,
   "metadata": {},
   "outputs": [
    {
     "data": {
      "text/plain": [
       "<matplotlib.legend.Legend at 0xdc404c8>"
      ]
     },
     "execution_count": 71,
     "metadata": {},
     "output_type": "execute_result"
    },
    {
     "data": {
      "image/png": "[encoded data removed]",
      "text/plain": [
       "<Figure size 432x288 with 1 Axes>"
      ]
     },
     "metadata": {
      "needs_background": "light"
     },
     "output_type": "display_data"
    }
   ],
   "source": [
    "ar['Profit'].plot()\n",
    "plt.legend()\n"
   ]
  },
  {
   "cell_type": "code",
   "execution_count": 15,
   "metadata": {},
   "outputs": [
    {
     "data": {
      "text/html": [
       "<div>\n",
       "<style scoped>\n",
       "    .dataframe tbody tr th:only-of-type {\n",
       "        vertical-align: middle;\n",
       "    }\n",
       "\n",
       "    .dataframe tbody tr th {\n",
       "        vertical-align: top;\n",
       "    }\n",
       "\n",
       "    .dataframe thead th {\n",
       "        text-align: right;\n",
       "    }\n",
       "</style>\n",
       "<table border=\"1\" class=\"dataframe\">\n",
       "  <thead>\n",
       "    <tr style=\"text-align: right;\">\n",
       "      <th></th>\n",
       "      <th>Date</th>\n",
       "      <th>Open</th>\n",
       "      <th>High</th>\n",
       "      <th>Low</th>\n",
       "      <th>Close</th>\n",
       "      <th>Adj Close</th>\n",
       "      <th>Volume</th>\n",
       "      <th>MA10</th>\n",
       "      <th>MA50</th>\n",
       "      <th>Shares</th>\n",
       "      <th>Close1</th>\n",
       "      <th>Profit</th>\n",
       "      <th>Wealth</th>\n",
       "    </tr>\n",
       "  </thead>\n",
       "  <tbody>\n",
       "    <tr>\n",
       "      <th>1239</th>\n",
       "      <td>2020-04-14</td>\n",
       "      <td>37.000000</td>\n",
       "      <td>39.599998</td>\n",
       "      <td>37.000000</td>\n",
       "      <td>37.400002</td>\n",
       "      <td>37.400002</td>\n",
       "      <td>798700.0</td>\n",
       "      <td>36.959999</td>\n",
       "      <td>NaN</td>\n",
       "      <td>0</td>\n",
       "      <td>38.380001</td>\n",
       "      <td>0.0</td>\n",
       "      <td>27.699997</td>\n",
       "    </tr>\n",
       "    <tr>\n",
       "      <th>1240</th>\n",
       "      <td>2020-04-15</td>\n",
       "      <td>36.820000</td>\n",
       "      <td>39.810001</td>\n",
       "      <td>36.500000</td>\n",
       "      <td>38.380001</td>\n",
       "      <td>38.380001</td>\n",
       "      <td>758700.0</td>\n",
       "      <td>37.111000</td>\n",
       "      <td>NaN</td>\n",
       "      <td>0</td>\n",
       "      <td>40.099998</td>\n",
       "      <td>0.0</td>\n",
       "      <td>27.699997</td>\n",
       "    </tr>\n",
       "    <tr>\n",
       "      <th>1241</th>\n",
       "      <td>2020-04-16</td>\n",
       "      <td>38.509998</td>\n",
       "      <td>40.099998</td>\n",
       "      <td>37.700001</td>\n",
       "      <td>40.099998</td>\n",
       "      <td>40.099998</td>\n",
       "      <td>862200.0</td>\n",
       "      <td>37.511000</td>\n",
       "      <td>NaN</td>\n",
       "      <td>0</td>\n",
       "      <td>42.299999</td>\n",
       "      <td>0.0</td>\n",
       "      <td>27.699997</td>\n",
       "    </tr>\n",
       "    <tr>\n",
       "      <th>1242</th>\n",
       "      <td>2020-04-17</td>\n",
       "      <td>41.000000</td>\n",
       "      <td>43.340000</td>\n",
       "      <td>40.349998</td>\n",
       "      <td>42.299999</td>\n",
       "      <td>42.299999</td>\n",
       "      <td>846600.0</td>\n",
       "      <td>38.131999</td>\n",
       "      <td>NaN</td>\n",
       "      <td>0</td>\n",
       "      <td>44.930000</td>\n",
       "      <td>0.0</td>\n",
       "      <td>27.699997</td>\n",
       "    </tr>\n",
       "    <tr>\n",
       "      <th>1243</th>\n",
       "      <td>2020-04-20</td>\n",
       "      <td>42.000000</td>\n",
       "      <td>46.450001</td>\n",
       "      <td>41.110001</td>\n",
       "      <td>44.930000</td>\n",
       "      <td>44.930000</td>\n",
       "      <td>836900.0</td>\n",
       "      <td>39.322000</td>\n",
       "      <td>NaN</td>\n",
       "      <td>0</td>\n",
       "      <td>NaN</td>\n",
       "      <td>0.0</td>\n",
       "      <td>27.699997</td>\n",
       "    </tr>\n",
       "  </tbody>\n",
       "</table>\n",
       "</div>"
      ],
      "text/plain": [
       "            Date       Open       High        Low      Close  Adj Close  \\\n",
       "1239  2020-04-14  37.000000  39.599998  37.000000  37.400002  37.400002   \n",
       "1240  2020-04-15  36.820000  39.810001  36.500000  38.380001  38.380001   \n",
       "1241  2020-04-16  38.509998  40.099998  37.700001  40.099998  40.099998   \n",
       "1242  2020-04-17  41.000000  43.340000  40.349998  42.299999  42.299999   \n",
       "1243  2020-04-20  42.000000  46.450001  41.110001  44.930000  44.930000   \n",
       "\n",
       "        Volume       MA10  MA50  Shares     Close1  Profit     Wealth  \n",
       "1239  798700.0  36.959999   NaN       0  38.380001     0.0  27.699997  \n",
       "1240  758700.0  37.111000   NaN       0  40.099998     0.0  27.699997  \n",
       "1241  862200.0  37.511000   NaN       0  42.299999     0.0  27.699997  \n",
       "1242  846600.0  38.131999   NaN       0  44.930000     0.0  27.699997  \n",
       "1243  836900.0  39.322000   NaN       0        NaN     0.0  27.699997  "
      ]
     },
     "execution_count": 15,
     "metadata": {},
     "output_type": "execute_result"
    }
   ],
   "source": [
    "ar['Wealth'] = ar['Profit'].cumsum()\n",
    "ar.tail()"
   ]
  },
  {
   "cell_type": "code",
   "execution_count": 16,
   "metadata": {},
   "outputs": [
    {
     "data": {
      "text/plain": [
       "<matplotlib.axes._subplots.AxesSubplot at 0x93ce408>"
      ]
     },
     "execution_count": 16,
     "metadata": {},
     "output_type": "execute_result"
    },
    {
     "data": {
      "image/png": "[encoded data removed]",
      "text/plain": [
       "<Figure size 432x288 with 1 Axes>"
      ]
     },
     "metadata": {
      "needs_background": "light"
     },
     "output_type": "display_data"
    }
   ],
   "source": [
    "ar['Wealth'].plot()"
   ]
  },
  {
   "cell_type": "code",
   "execution_count": 19,
   "metadata": {},
   "outputs": [
    {
     "data": {
      "text/html": [
       "<div>\n",
       "<style scoped>\n",
       "    .dataframe tbody tr th:only-of-type {\n",
       "        vertical-align: middle;\n",
       "    }\n",
       "\n",
       "    .dataframe tbody tr th {\n",
       "        vertical-align: top;\n",
       "    }\n",
       "\n",
       "    .dataframe thead th {\n",
       "        text-align: right;\n",
       "    }\n",
       "</style>\n",
       "<table border=\"1\" class=\"dataframe\">\n",
       "  <thead>\n",
       "    <tr style=\"text-align: right;\">\n",
       "      <th></th>\n",
       "      <th>Date</th>\n",
       "      <th>Open</th>\n",
       "      <th>High</th>\n",
       "      <th>Low</th>\n",
       "      <th>Close</th>\n",
       "      <th>Adj Close</th>\n",
       "      <th>Volume</th>\n",
       "      <th>MA10</th>\n",
       "      <th>MA50</th>\n",
       "      <th>Shares</th>\n",
       "    </tr>\n",
       "  </thead>\n",
       "  <tbody>\n",
       "    <tr>\n",
       "      <th>5101</th>\n",
       "      <td>2020-04-08</td>\n",
       "      <td>4.35</td>\n",
       "      <td>5.15</td>\n",
       "      <td>4.28</td>\n",
       "      <td>5.03</td>\n",
       "      <td>5.03</td>\n",
       "      <td>120215800.0</td>\n",
       "      <td>4.907</td>\n",
       "      <td>NaN</td>\n",
       "      <td>0</td>\n",
       "    </tr>\n",
       "    <tr>\n",
       "      <th>5102</th>\n",
       "      <td>2020-04-09</td>\n",
       "      <td>5.32</td>\n",
       "      <td>5.54</td>\n",
       "      <td>5.01</td>\n",
       "      <td>5.15</td>\n",
       "      <td>5.15</td>\n",
       "      <td>114671500.0</td>\n",
       "      <td>4.852</td>\n",
       "      <td>NaN</td>\n",
       "      <td>0</td>\n",
       "    </tr>\n",
       "    <tr>\n",
       "      <th>5103</th>\n",
       "      <td>2020-04-13</td>\n",
       "      <td>5.05</td>\n",
       "      <td>5.45</td>\n",
       "      <td>5.02</td>\n",
       "      <td>5.40</td>\n",
       "      <td>5.40</td>\n",
       "      <td>74853000.0</td>\n",
       "      <td>4.822</td>\n",
       "      <td>NaN</td>\n",
       "      <td>0</td>\n",
       "    </tr>\n",
       "    <tr>\n",
       "      <th>5104</th>\n",
       "      <td>2020-04-14</td>\n",
       "      <td>5.68</td>\n",
       "      <td>6.10</td>\n",
       "      <td>5.62</td>\n",
       "      <td>6.05</td>\n",
       "      <td>6.05</td>\n",
       "      <td>93015800.0</td>\n",
       "      <td>4.882</td>\n",
       "      <td>NaN</td>\n",
       "      <td>0</td>\n",
       "    </tr>\n",
       "    <tr>\n",
       "      <th>5105</th>\n",
       "      <td>2020-04-15</td>\n",
       "      <td>5.77</td>\n",
       "      <td>6.57</td>\n",
       "      <td>5.66</td>\n",
       "      <td>6.36</td>\n",
       "      <td>6.36</td>\n",
       "      <td>114630700.0</td>\n",
       "      <td>4.990</td>\n",
       "      <td>NaN</td>\n",
       "      <td>0</td>\n",
       "    </tr>\n",
       "  </tbody>\n",
       "</table>\n",
       "</div>"
      ],
      "text/plain": [
       "            Date  Open  High   Low  Close  Adj Close       Volume   MA10  \\\n",
       "5101  2020-04-08  4.35  5.15  4.28   5.03       5.03  120215800.0  4.907   \n",
       "5102  2020-04-09  5.32  5.54  5.01   5.15       5.15  114671500.0  4.852   \n",
       "5103  2020-04-13  5.05  5.45  5.02   5.40       5.40   74853000.0  4.822   \n",
       "5104  2020-04-14  5.68  6.10  5.62   6.05       6.05   93015800.0  4.882   \n",
       "5105  2020-04-15  5.77  6.57  5.66   6.36       6.36  114630700.0  4.990   \n",
       "\n",
       "      MA50  Shares  \n",
       "5101   NaN       0  \n",
       "5102   NaN       0  \n",
       "5103   NaN       0  \n",
       "5104   NaN       0  \n",
       "5105   NaN       0  "
      ]
     },
     "execution_count": 19,
     "metadata": {},
     "output_type": "execute_result"
    }
   ],
   "source": [
    "vv['MA10'] = vv['Close'].rolling(10).mean()\n",
    "vv['MA50'] = vv['Close'].rolling(50).mean()\n",
    "\n",
    "vv['Shares'] = [1 if vv.loc[ei,'MA10']>vv.loc[ei,'MA50']else 0\n",
    "                for ei in vv.index]\n",
    "vv.tail()"
   ]
  },
  {
   "cell_type": "code",
   "execution_count": 29,
   "metadata": {},
   "outputs": [
    {
     "data": {
      "image/png": "[encoded data removed]",
      "text/plain": [
       "<Figure size 432x288 with 1 Axes>"
      ]
     },
     "metadata": {
      "needs_background": "light"
     },
     "output_type": "display_data"
    }
   ],
   "source": [
    "import matplotlib.pyplot as plt \n",
    "vv['MA10'].plot(label='MA10')\n",
    "vv['MA50'].plot(label='MA50')\n",
    "vv['Close'].plot(label='Close')\n",
    "plt.legend()\n",
    "plt.show()"
   ]
  },
  {
   "cell_type": "code",
   "execution_count": 31,
   "metadata": {
    "scrolled": true
   },
   "outputs": [
    {
     "data": {
      "text/plain": [
       "<matplotlib.axes._subplots.AxesSubplot at 0xb4ff548>"
      ]
     },
     "execution_count": 31,
     "metadata": {},
     "output_type": "execute_result"
    },
    {
     "data": {
      "image/png": "[encoded data removed]",
      "text/plain": [
       "<Figure size 432x288 with 1 Axes>"
      ]
     },
     "metadata": {
      "needs_background": "light"
     },
     "output_type": "display_data"
    }
   ],
   "source": [
    "import numpy as np\n",
    "vv['LogReturn'] = np.log(vv['Close']).shift(-1)-np.log(vv['Close'])\n",
    "vv['LogReturn'].hist(bins=100)"
   ]
  },
  {
   "cell_type": "code",
   "execution_count": 35,
   "metadata": {},
   "outputs": [
    {
     "data": {
      "image/png": "[encoded data removed]",
      "text/plain": [
       "<Figure size 1080x576 with 1 Axes>"
      ]
     },
     "metadata": {
      "needs_background": "light"
     },
     "output_type": "display_data"
    }
   ],
   "source": [
    "#distribuição normal do papel VVAR3\n",
    "from scipy.stats import norm\n",
    "mu = vv['LogReturn'].mean()\n",
    "sigma = vv['LogReturn'].std(ddof=1)\n",
    "\n",
    "density = pd.DataFrame()\n",
    "density['x'] = np.arange(vv['LogReturn'].min()-0.01, vv['LogReturn'].max()+0.01, 0.001)\n",
    "density['pdf'] = norm.pdf(density['x'], mu, sigma)\n",
    "\n",
    "vv['LogReturn'].hist(bins=50, figsize=(15, 8))\n",
    "plt.plot(density['x'], density['pdf'], color='red')\n",
    "plt.show()\n"
   ]
  },
  {
   "cell_type": "code",
   "execution_count": 39,
   "metadata": {},
   "outputs": [
    {
     "name": "stdout",
     "output_type": "stream",
     "text": [
      "A probabilidade é de   0.1692737127496205\n"
     ]
    }
   ],
   "source": [
    "#probabilidade da VVAR3 cair 5% em 1 dia\n",
    "prob_return1 = norm.cdf(-0.05, mu, sigma)\n",
    "print('A probabilidade é de  ', prob_return1)"
   ]
  },
  {
   "cell_type": "code",
   "execution_count": 41,
   "metadata": {},
   "outputs": [
    {
     "name": "stdout",
     "output_type": "stream",
     "text": [
      "A probabilidade é de  0.028344765167139623\n"
     ]
    }
   ],
   "source": [
    "#probabilidade da VVAR3 cair 10% em 1 dia\n",
    "prob_return2 = norm.cdf(-0.1,mu,sigma)\n",
    "print('A probabilidade é de ',prob_return2)"
   ]
  },
  {
   "cell_type": "code",
   "execution_count": 45,
   "metadata": {},
   "outputs": [
    {
     "name": "stdout",
     "output_type": "stream",
     "text": [
      "A probabilidade de queda da VVAR3 de 20% em 252 dias é  0.35491186273884834\n"
     ]
    }
   ],
   "source": [
    "#probabilidade de queda em 1 ano(252 dias úteis) de 20%\n",
    "mu252 = 252*mu\n",
    "sigma252 = (252**0.5) * sigma\n",
    "\n",
    "print('A probabilidade de queda da VVAR3 de 20% em 252 dias é ',  norm.cdf(-0.2, mu252, sigma252))\n"
   ]
  },
  {
   "cell_type": "code",
   "execution_count": 47,
   "metadata": {},
   "outputs": [
    {
     "name": "stdout",
     "output_type": "stream",
     "text": [
      "var de -0.08625197683018457\n"
     ]
    }
   ],
   "source": [
    "#Value at Risk\n",
    "var = norm.ppf(0.05,mu,sigma)\n",
    "print('var de',var )"
   ]
  },
  {
   "cell_type": "code",
   "execution_count": 49,
   "metadata": {},
   "outputs": [
    {
     "name": "stdout",
     "output_type": "stream",
     "text": [
      "5% quantile  -0.08625197683018457\n",
      "95% quantile  0.0871354975239989\n"
     ]
    }
   ],
   "source": [
    "#quantis\n",
    "print('5% quantile ', norm.ppf(0.05, mu, sigma))\n",
    "print('95% quantile ', norm.ppf(0.95, mu, sigma))"
   ]
  },
  {
   "cell_type": "code",
   "execution_count": 60,
   "metadata": {},
   "outputs": [
    {
     "name": "stdout",
     "output_type": "stream",
     "text": [
      "a probabilidade de cair 5% no dia é de 0.02310731506752582\n"
     ]
    }
   ],
   "source": [
    "#mensuração de risco arezzo - queda 5% no dia\n",
    "ar['LogReturn'] = np.log(ar['Close']).shift(-1)-np.log(ar['Close'])\n",
    "mu2 = ar['LogReturn'].mean()\n",
    "sigma2 = ar['LogReturn'].std(ddof=1)\n",
    "prob1 = norm.cdf(-0.05,mu2,sigma2)\n",
    "print('a probabilidade de cair 5% no dia é de',prob1)"
   ]
  },
  {
   "cell_type": "code",
   "execution_count": 56,
   "metadata": {},
   "outputs": [
    {
     "name": "stdout",
     "output_type": "stream",
     "text": [
      "a probabilidade do papel AREZZ3 cair 10% no dia é de 0.028344765167139623\n"
     ]
    }
   ],
   "source": [
    "prob2 = norm.cdf(-0.1,mu,sigma)\n",
    "print('a probabilidade do papel AREZZ3 cair 10% no dia é de',prob2)\n"
   ]
  },
  {
   "cell_type": "code",
   "execution_count": 64,
   "metadata": {},
   "outputs": [
    {
     "name": "stdout",
     "output_type": "stream",
     "text": [
      "A probabilidade de queda anual de 10% do papel AREZZ3  é de  0.3860425112826277\n",
      "5% quantile  -0.04115814464347452\n",
      "95% quantile  0.04228785900809843\n"
     ]
    }
   ],
   "source": [
    "#cálculo da chance de queda de 10% do papel AREZZ3 em 1 ano\n",
    "mu_ar_252 = mu2*252\n",
    "sigma_ar_252 = (252**0.5) * sigma\n",
    "print('A probabilidade de queda anual de 10% do papel AREZZ3  é de ',norm.cdf(-0.1,mu_ar_252,sigma_ar_252))\n",
    "print('5% quantile ', norm.ppf(0.05, mu2, sigma2))\n",
    "print('95% quantile ', norm.ppf(0.95, mu2, sigma2))"
   ]
  }
 ],
 "metadata": {
  "kernelspec": {
   "display_name": "Python 3",
   "language": "python",
   "name": "python3"
  },
  "language_info": {
   "codemirror_mode": {
    "name": "ipython",
    "version": 3
   },
   "file_extension": ".py",
   "mimetype": "text/x-python",
   "name": "python",
   "nbconvert_exporter": "python",
   "pygments_lexer": "ipython3",
   "version": "3.7.6"
  }
 },
 "nbformat": 4,
 "nbformat_minor": 4
}
